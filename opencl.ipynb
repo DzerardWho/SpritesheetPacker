{
 "cells": [
  {
   "cell_type": "code",
   "execution_count": 2,
   "metadata": {},
   "outputs": [],
   "source": [
    "import pyopencl as cl"
   ]
  },
  {
   "cell_type": "code",
   "execution_count": 3,
   "metadata": {
    "collapsed": true
   },
   "outputs": [
    {
     "name": "stdout",
     "output_type": "stream",
     "text": [
      "\n",
      "============================================================\n",
      "OpenCL Platforms and Devices\n",
      "============================================================\n",
      "Platform - Name:  NVIDIA CUDA\n",
      "Platform - Vendor:  NVIDIA Corporation\n",
      "Platform - Version:  OpenCL 1.2 CUDA 10.1.0\n",
      "Platform - Profile:  FULL_PROFILE\n",
      "    --------------------------------------------------------\n",
      "    Device - Name:  GeForce 940M\n",
      "    Device - Type:  GPU\n",
      "    Device - Max Clock Speed:  1176 Mhz\n",
      "    Device - Compute Units:  3\n",
      "    Device - Local Memory:  48 KB\n",
      "    Device - Constant Memory:  64 KB\n",
      "    Device - Global Memory: 2 GB\n",
      "    Device - Max Buffer/Image Size: 512 MB\n",
      "    Device - Max Work Group Size: 1024\n",
      "============================================================\n",
      "Platform - Name:  Intel(R) OpenCL\n",
      "Platform - Vendor:  Intel(R) Corporation\n",
      "Platform - Version:  OpenCL 2.0 \n",
      "Platform - Profile:  FULL_PROFILE\n",
      "    --------------------------------------------------------\n",
      "    Device - Name:  Intel(R) HD Graphics 520\n",
      "    Device - Type:  GPU\n",
      "    Device - Max Clock Speed:  1000 Mhz\n",
      "    Device - Compute Units:  24\n",
      "    Device - Local Memory:  64 KB\n",
      "    Device - Constant Memory:  2097152 KB\n",
      "    Device - Global Memory: 3 GB\n",
      "    Device - Max Buffer/Image Size: 2048 MB\n",
      "    Device - Max Work Group Size: 256\n",
      "    --------------------------------------------------------\n",
      "    Device - Name:  Intel(R) Core(TM) i5-6200U CPU @ 2.30GHz\n",
      "    Device - Type:  CPU\n",
      "    Device - Max Clock Speed:  2300 Mhz\n",
      "    Device - Compute Units:  4\n",
      "    Device - Local Memory:  32 KB\n",
      "    Device - Constant Memory:  128 KB\n",
      "    Device - Global Memory: 8 GB\n",
      "    Device - Max Buffer/Image Size: 2015 MB\n",
      "    Device - Max Work Group Size: 8192\n",
      "\n",
      "\n"
     ]
    }
   ],
   "source": [
    "print('\\n' + '=' * 60 + '\\nOpenCL Platforms and Devices')\n",
    "# Print each platform on this computer\n",
    "for platform in cl.get_platforms():\n",
    "    print('=' * 60)\n",
    "    print('Platform - Name:  ' + platform.name)\n",
    "    print('Platform - Vendor:  ' + platform.vendor)\n",
    "    print('Platform - Version:  ' + platform.version)\n",
    "    print('Platform - Profile:  ' + platform.profile)\n",
    "    # Print each device per-platform\n",
    "    for device in platform.get_devices():\n",
    "        print('    ' + '-' * 56)\n",
    "        print('    Device - Name:  ' + device.name)\n",
    "        print('    Device - Type:  ' + cl.device_type.to_string(device.type))\n",
    "        print('    Device - Max Clock Speed:  {0} Mhz'.format(device.max_clock_frequency))\n",
    "        print('    Device - Compute Units:  {0}'.format(device.max_compute_units))\n",
    "        print('    Device - Local Memory:  {0:.0f} KB'.format(device.local_mem_size/1024.0))\n",
    "        print('    Device - Constant Memory:  {0:.0f} KB'.format(device.max_constant_buffer_size/1024.0))\n",
    "        print('    Device - Global Memory: {0:.0f} GB'.format(device.global_mem_size/1073741824.0))\n",
    "        print('    Device - Max Buffer/Image Size: {0:.0f} MB'.format(device.max_mem_alloc_size/1048576.0))\n",
    "        print('    Device - Max Work Group Size: {0:.0f}'.format(device.max_work_group_size))\n",
    "print('\\n')"
   ]
  },
  {
   "cell_type": "code",
   "execution_count": null,
   "metadata": {},
   "outputs": [],
   "source": []
  }
 ],
 "metadata": {
  "kernelspec": {
   "display_name": "Python 3",
   "language": "python",
   "name": "python3"
  },
  "language_info": {
   "codemirror_mode": {
    "name": "ipython",
    "version": 3
   },
   "file_extension": ".py",
   "mimetype": "text/x-python",
   "name": "python",
   "nbconvert_exporter": "python",
   "pygments_lexer": "ipython3",
   "version": "3.7.2"
  }
 },
 "nbformat": 4,
 "nbformat_minor": 2
}
